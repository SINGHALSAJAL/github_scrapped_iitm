{
 "cells": [
  {
   "cell_type": "code",
   "execution_count": 1,
   "metadata": {},
   "outputs": [
    {
     "name": "stdout",
     "output_type": "stream",
     "text": [
      "The most popular programming language is: JavaScript\n"
     ]
    }
   ],
   "source": [
    "import pandas as pd\n",
    "\n",
    "# Load the repositories data\n",
    "repos_df = pd.read_csv('/Users/sajalsinghal/Desktop/python/untitled folder/repositories.csv')\n",
    "\n",
    "# Filter out any missing values in the language column\n",
    "language_counts = repos_df['language'].dropna().value_counts()\n",
    "\n",
    "# Get the most common programming language\n",
    "most_popular_language = language_counts.idxmax()\n",
    "print(\"The most popular programming language is:\", most_popular_language)\n"
   ]
  },
  {
   "cell_type": "code",
   "execution_count": 4,
   "metadata": {},
   "outputs": [
    {
     "name": "stdout",
     "output_type": "stream",
     "text": [
      "The second most popular programming language is: JavaScript\n"
     ]
    }
   ],
   "source": [
    "import pandas as pd\n",
    "\n",
    "# Load users and repositories data\n",
    "users_df = pd.read_csv('/Users/sajalsinghal/Desktop/python/untitled folder/users.csv')\n",
    "repos_df = pd.read_csv('/Users/sajalsinghal/Desktop/python/untitled folder/repositories.csv')\n",
    "\n",
    "# Convert 'created_at' column to datetime format for filtering\n",
    "users_df['created_at'] = pd.to_datetime(users_df['created_at'], errors='coerce')\n",
    "\n",
    "# Filter users who joined after 2020\n",
    "new_users = users_df[users_df['created_at'] > '2020-12-31']\n",
    "\n",
    "# Filter repositories to only include those by new users\n",
    "new_user_logins = new_users['login']\n",
    "new_user_repos = repos_df[repos_df['login'].isin(new_user_logins)]\n",
    "\n",
    "# Count programming languages, ignoring missing values\n",
    "language_counts = new_user_repos['language'].dropna().value_counts()\n",
    "\n",
    "# Find the second most popular programming language\n",
    "second_most_popular_language = language_counts.index[1]\n",
    "print(\"The second most popular programming language is:\", second_most_popular_language)\n"
   ]
  },
  {
   "cell_type": "code",
   "execution_count": 5,
   "metadata": {},
   "outputs": [
    {
     "name": "stdout",
     "output_type": "stream",
     "text": [
      "The language with the highest average stars per repository is: Vim Script with an average of 647.4545454545455 stars.\n"
     ]
    }
   ],
   "source": [
    "import pandas as pd\n",
    "\n",
    "# Load the repositories data\n",
    "repos_df = pd.read_csv('/Users/sajalsinghal/Desktop/python/untitled folder/repositories.csv')\n",
    "\n",
    "# Group by 'language' and calculate the average stars per language\n",
    "average_stars = repos_df.groupby('language')['stargazers_count'].mean()\n",
    "\n",
    "# Find the language with the highest average stars\n",
    "top_language = average_stars.idxmax()\n",
    "highest_avg_stars = average_stars.max()\n",
    "\n",
    "print(f\"The language with the highest average stars per repository is: {top_language} with an average of {highest_avg_stars} stars.\")\n"
   ]
  },
  {
   "cell_type": "code",
   "execution_count": 6,
   "metadata": {},
   "outputs": [
    {
     "name": "stdout",
     "output_type": "stream",
     "text": [
      "The top 3 most popular licenses are: mit, other, apache-2.0\n"
     ]
    }
   ],
   "source": [
    "import pandas as pd\n",
    "\n",
    "# Load the repositories data\n",
    "repos_df = pd.read_csv('/Users/sajalsinghal/Desktop/python/untitled folder/repositories.csv')\n",
    "\n",
    "# Filter out missing license entries and find the top 3 most common licenses\n",
    "top_licenses = repos_df['license_name'].dropna().value_counts().nlargest(3)\n",
    "\n",
    "# Output the top 3 most popular licenses in a comma-separated format\n",
    "top_3_licenses = ', '.join(top_licenses.index.tolist())\n",
    "print(\"The top 3 most popular licenses are:\", top_3_licenses)\n"
   ]
  },
  {
   "cell_type": "code",
   "execution_count": 7,
   "metadata": {},
   "outputs": [
    {
     "name": "stdout",
     "output_type": "stream",
     "text": [
      "The company where the majority of developers work is: UNIVERSITY OF CHICAGO\n"
     ]
    }
   ],
   "source": [
    "import pandas as pd\n",
    "\n",
    "# Load the users data\n",
    "users_df = pd.read_csv('users.csv')\n",
    "\n",
    "# Clean the company names (optional, if needed)\n",
    "users_df['company'] = users_df['company'].str.strip().str.lstrip('@').str.upper()\n",
    "\n",
    "# Filter out empty values and find the most common company\n",
    "most_common_company = users_df['company'].dropna().value_counts().idxmax()\n",
    "print(\"The company where the majority of developers work is:\", most_common_company)\n"
   ]
  },
  {
   "cell_type": "code",
   "execution_count": 8,
   "metadata": {},
   "outputs": [
    {
     "name": "stdout",
     "output_type": "stream",
     "text": [
      "The top 5 users in terms of leader_strength are: dabeaz, sstephenson, khan4019, adashofdata, djspiewak\n"
     ]
    }
   ],
   "source": [
    "import pandas as pd\n",
    "\n",
    "# Load the users data\n",
    "users_df = pd.read_csv('/Users/sajalsinghal/Desktop/python/untitled folder/users.csv')\n",
    "\n",
    "# Calculate leader_strength as followers / (1 + following)\n",
    "users_df['leader_strength'] = users_df['followers'] / (1 + users_df['following'])\n",
    "\n",
    "# Get the top 5 users by leader_strength and list their logins\n",
    "top_5_leaders = users_df.nlargest(5, 'leader_strength')['login'].tolist()\n",
    "\n",
    "# Join the logins into a comma-separated string\n",
    "top_5_leaders_str = ', '.join(top_5_leaders)\n",
    "print(\"The top 5 users in terms of leader_strength are:\", top_5_leaders_str)\n"
   ]
  },
  {
   "cell_type": "code",
   "execution_count": 9,
   "metadata": {},
   "outputs": [
    {
     "name": "stdout",
     "output_type": "stream",
     "text": [
      "Correlation between followers and public repositories: 0.077\n"
     ]
    }
   ],
   "source": [
    "import pandas as pd\n",
    "\n",
    "# Load the users data\n",
    "users_df = pd.read_csv('/Users/sajalsinghal/Desktop/python/untitled folder/users.csv')\n",
    "\n",
    "# Calculate the correlation between 'followers' and 'public_repos'\n",
    "correlation_followers_repos = users_df['followers'].corr(users_df['public_repos'])\n",
    "\n",
    "# Round to 3 decimal places\n",
    "correlation_followers_repos_rounded = round(correlation_followers_repos, 3)\n",
    "print(\"Correlation between followers and public repositories:\", correlation_followers_repos_rounded)\n"
   ]
  },
  {
   "cell_type": "code",
   "execution_count": 11,
   "metadata": {},
   "outputs": [
    {
     "name": "stdout",
     "output_type": "stream",
     "text": [
      "Regression slope of followers on repos: 0.615\n"
     ]
    }
   ],
   "source": [
    "import pandas as pd\n",
    "import statsmodels.api as sm\n",
    "\n",
    "# Load the users data\n",
    "users_df = pd.read_csv('/Users/sajalsinghal/Desktop/python/untitled folder/users.csv')\n",
    "\n",
    "# Define the independent variable (public_repos) and dependent variable (followers)\n",
    "X = users_df['public_repos']\n",
    "y = users_df['followers']\n",
    "\n",
    "# Add a constant to the independent variable for the intercept in the regression model\n",
    "X = sm.add_constant(X)\n",
    "\n",
    "# Fit the regression model\n",
    "model = sm.OLS(y, X).fit()\n",
    "\n",
    "# Get the slope (coefficient of public_repos) and round to 3 decimal places\n",
    "slope = round(model.params['public_repos'], 3)\n",
    "print(\"Regression slope of followers on repos:\", slope)\n"
   ]
  },
  {
   "cell_type": "code",
   "execution_count": 22,
   "metadata": {},
   "outputs": [
    {
     "name": "stdout",
     "output_type": "stream",
     "text": [
      "0.287\n"
     ]
    }
   ],
   "source": [
    "import pandas as pd\n",
    "\n",
    "# Load the data from the CSV files\n",
    "repositories_df = pd.read_csv('repositories.csv')\n",
    "\n",
    "# Calculate the correlation between 'has_projects' and 'has_wiki' columns\n",
    "correlation = repositories_df['has_projects'].astype(int).corr(repositories_df['has_wiki'].astype(int))\n",
    "\n",
    "# Output the correlation to 3 decimal places\n",
    "correlation_rounded = round(correlation, 3)\n",
    "print(correlation_rounded)\n"
   ]
  },
  {
   "cell_type": "code",
   "execution_count": 15,
   "metadata": {},
   "outputs": [
    {
     "name": "stdout",
     "output_type": "stream",
     "text": [
      "111.509\n"
     ]
    },
    {
     "name": "stderr",
     "output_type": "stream",
     "text": [
      "/var/folders/z8/4j1kf3jx1rs812tbtz27vp580000gn/T/ipykernel_56710/1979277981.py:7: FutureWarning: Downcasting object dtype arrays on .fillna, .ffill, .bfill is deprecated and will change in a future version. Call result.infer_objects(copy=False) instead. To opt-in to the future behavior, set `pd.set_option('future.no_silent_downcasting', True)`\n",
      "  users_df['hireable'] = users_df['hireable'].fillna(False).astype(bool)\n"
     ]
    }
   ],
   "source": [
    "import pandas as pd\n",
    "\n",
    "# Load the data from the CSV file\n",
    "users_df = pd.read_csv('/Users/sajalsinghal/Desktop/python/untitled folder/users.csv')\n",
    "\n",
    "# Convert 'hireable' column to boolean, treating NaN values as False\n",
    "users_df['hireable'] = users_df['hireable'].fillna(False).astype(bool)\n",
    "\n",
    "# Calculate the average number of following for hireable and non-hireable users\n",
    "avg_following_hireable = users_df[users_df['hireable']]['following'].mean()\n",
    "avg_following_non_hireable = users_df[~users_df['hireable']]['following'].mean()\n",
    "\n",
    "# Compute the difference and round to 3 decimal places\n",
    "following_difference = round(avg_following_hireable - avg_following_non_hireable, 3)\n",
    "\n",
    "print(following_difference)\n"
   ]
  },
  {
   "cell_type": "code",
   "execution_count": 16,
   "metadata": {},
   "outputs": [
    {
     "name": "stdout",
     "output_type": "stream",
     "text": [
      "3.044\n"
     ]
    },
    {
     "name": "stderr",
     "output_type": "stream",
     "text": [
      "/var/folders/z8/4j1kf3jx1rs812tbtz27vp580000gn/T/ipykernel_56710/2276756102.py:12: SettingWithCopyWarning: \n",
      "A value is trying to be set on a copy of a slice from a DataFrame.\n",
      "Try using .loc[row_indexer,col_indexer] = value instead\n",
      "\n",
      "See the caveats in the documentation: https://pandas.pydata.org/pandas-docs/stable/user_guide/indexing.html#returning-a-view-versus-a-copy\n",
      "  users_with_bios['bio_word_count'] = users_with_bios['bio'].apply(lambda x: len(x.split()))\n"
     ]
    }
   ],
   "source": [
    "import pandas as pd\n",
    "from sklearn.linear_model import LinearRegression\n",
    "import numpy as np\n",
    "\n",
    "# Load the data\n",
    "users_df = pd.read_csv('users.csv')\n",
    "\n",
    "# Filter out rows without bios\n",
    "users_with_bios = users_df.dropna(subset=['bio'])\n",
    "\n",
    "# Calculate word count in the bio\n",
    "users_with_bios['bio_word_count'] = users_with_bios['bio'].apply(lambda x: len(x.split()))\n",
    "\n",
    "# Prepare the data for regression\n",
    "X = users_with_bios[['bio_word_count']]\n",
    "y = users_with_bios['followers']\n",
    "\n",
    "# Create and fit the regression model\n",
    "model = LinearRegression()\n",
    "model.fit(X, y)\n",
    "\n",
    "# Get the regression slope and round to 3 decimal places\n",
    "slope = round(model.coef_[0], 3)\n",
    "print(slope)\n"
   ]
  },
  {
   "cell_type": "code",
   "execution_count": 17,
   "metadata": {},
   "outputs": [
    {
     "name": "stdout",
     "output_type": "stream",
     "text": [
      "marwahaha, austinsonger, eddelbuettel, erichilarysmithsr, yyolk\n"
     ]
    }
   ],
   "source": [
    "import pandas as pd\n",
    "\n",
    "# Load the data\n",
    "repositories_df = pd.read_csv('repositories.csv')\n",
    "\n",
    "# Convert 'created_at' to datetime\n",
    "repositories_df['created_at'] = pd.to_datetime(repositories_df['created_at'], utc=True)\n",
    "\n",
    "# Filter repositories created on weekends (Saturday=5, Sunday=6)\n",
    "weekend_repos = repositories_df[repositories_df['created_at'].dt.weekday >= 5]\n",
    "\n",
    "# Count repositories created by each user on weekends\n",
    "weekend_counts = weekend_repos['login'].value_counts()\n",
    "\n",
    "# Get the top 5 users who created the most repositories on weekends\n",
    "top_5_users = weekend_counts.head(5).index.tolist()\n",
    "\n",
    "# Print the result as a comma-separated string\n",
    "print(\", \".join(top_5_users))\n"
   ]
  },
  {
   "cell_type": "code",
   "execution_count": 18,
   "metadata": {},
   "outputs": [
    {
     "name": "stdout",
     "output_type": "stream",
     "text": [
      "0.059\n"
     ]
    },
    {
     "name": "stderr",
     "output_type": "stream",
     "text": [
      "/var/folders/z8/4j1kf3jx1rs812tbtz27vp580000gn/T/ipykernel_56710/4096010678.py:7: FutureWarning: Downcasting object dtype arrays on .fillna, .ffill, .bfill is deprecated and will change in a future version. Call result.infer_objects(copy=False) instead. To opt-in to the future behavior, set `pd.set_option('future.no_silent_downcasting', True)`\n",
      "  users_df['hireable'] = users_df['hireable'].fillna(False).astype(bool)\n"
     ]
    }
   ],
   "source": [
    "import pandas as pd\n",
    "\n",
    "# Load the data\n",
    "users_df = pd.read_csv('users.csv')\n",
    "\n",
    "# Convert 'hireable' column to boolean, treating NaN as False\n",
    "users_df['hireable'] = users_df['hireable'].fillna(False).astype(bool)\n",
    "\n",
    "# Calculate the fraction of users with email addresses for hireable and non-hireable users\n",
    "fraction_with_email_hireable = users_df[users_df['hireable']]['email'].notna().mean()\n",
    "fraction_with_email_non_hireable = users_df[~users_df['hireable']]['email'].notna().mean()\n",
    "\n",
    "# Compute the difference and round to 3 decimal places\n",
    "email_difference = round(fraction_with_email_hireable - fraction_with_email_non_hireable, 3)\n",
    "\n",
    "print(email_difference)\n"
   ]
  },
  {
   "cell_type": "code",
   "execution_count": 19,
   "metadata": {},
   "outputs": [
    {
     "name": "stdout",
     "output_type": "stream",
     "text": [
      "Smith\n"
     ]
    },
    {
     "name": "stderr",
     "output_type": "stream",
     "text": [
      "/var/folders/z8/4j1kf3jx1rs812tbtz27vp580000gn/T/ipykernel_56710/541539729.py:10: SettingWithCopyWarning: \n",
      "A value is trying to be set on a copy of a slice from a DataFrame.\n",
      "Try using .loc[row_indexer,col_indexer] = value instead\n",
      "\n",
      "See the caveats in the documentation: https://pandas.pydata.org/pandas-docs/stable/user_guide/indexing.html#returning-a-view-versus-a-copy\n",
      "  users_with_names['surname'] = users_with_names['name'].str.strip().str.split().str[-1]\n"
     ]
    }
   ],
   "source": [
    "import pandas as pd\n",
    "\n",
    "# Load the data\n",
    "users_df = pd.read_csv('users.csv')\n",
    "\n",
    "# Filter out rows with missing names\n",
    "users_with_names = users_df.dropna(subset=['name'])\n",
    "\n",
    "# Extract surnames (last word in the name after trimming)\n",
    "users_with_names['surname'] = users_with_names['name'].str.strip().str.split().str[-1]\n",
    "\n",
    "# Count occurrences of each surname\n",
    "surname_counts = users_with_names['surname'].value_counts()\n",
    "\n",
    "# Find the maximum count\n",
    "max_count = surname_counts.max()\n",
    "\n",
    "# Get the most common surname(s), sorted alphabetically\n",
    "most_common_surnames = surname_counts[surname_counts == max_count].index.sort_values().tolist()\n",
    "\n",
    "# Print the result as a comma-separated string\n",
    "print(\", \".join(most_common_surnames))\n"
   ]
  }
 ],
 "metadata": {
  "kernelspec": {
   "display_name": "Python 3",
   "language": "python",
   "name": "python3"
  },
  "language_info": {
   "codemirror_mode": {
    "name": "ipython",
    "version": 3
   },
   "file_extension": ".py",
   "mimetype": "text/x-python",
   "name": "python",
   "nbconvert_exporter": "python",
   "pygments_lexer": "ipython3",
   "version": "3.11.8"
  },
  "orig_nbformat": 4
 },
 "nbformat": 4,
 "nbformat_minor": 2
}
